{
 "cells": [
  {
   "cell_type": "code",
   "execution_count": 25,
   "id": "9487d996",
   "metadata": {},
   "outputs": [],
   "source": [
    "from sympy import *"
   ]
  },
  {
   "cell_type": "code",
   "execution_count": 26,
   "id": "c14f451b",
   "metadata": {},
   "outputs": [],
   "source": [
    "init_printing()"
   ]
  },
  {
   "cell_type": "code",
   "execution_count": 27,
   "id": "24a2b886",
   "metadata": {},
   "outputs": [],
   "source": [
    "h, x_0, y = symbols('h, x_0, y', real=True)\n",
    "a = symbols('a', real=True, positive=True)"
   ]
  },
  {
   "cell_type": "code",
   "execution_count": 28,
   "id": "be496571",
   "metadata": {},
   "outputs": [],
   "source": [
    "f = 1 - (1/a) * sqrt(x_0**2 + y**2)"
   ]
  },
  {
   "cell_type": "code",
   "execution_count": 29,
   "id": "cbb1c471",
   "metadata": {},
   "outputs": [
    {
     "data": {
      "image/png": "[encoded data removed]",
      "text/latex": [
       "$\\displaystyle 1 - \\frac{\\sqrt{x_{0}^{2} + y^{2}}}{a}$"
      ],
      "text/plain": [
       "       __________\n",
       "      ╱   2    2 \n",
       "    ╲╱  x₀  + y  \n",
       "1 - ─────────────\n",
       "          a      "
      ]
     },
     "execution_count": 29,
     "metadata": {},
     "output_type": "execute_result"
    }
   ],
   "source": [
    "f"
   ]
  },
  {
   "cell_type": "code",
   "execution_count": 30,
   "id": "e0a33f9b",
   "metadata": {},
   "outputs": [],
   "source": [
    "b = sqrt(a**2 - x_0**2)"
   ]
  },
  {
   "cell_type": "code",
   "execution_count": 31,
   "id": "5e6f4ed1",
   "metadata": {},
   "outputs": [],
   "source": [
    "F = integrate(f, (y, -b, b)).rewrite(log).simplify()"
   ]
  },
  {
   "cell_type": "code",
   "execution_count": 32,
   "id": "e3b64842",
   "metadata": {},
   "outputs": [
    {
     "data": {
      "image/png": "[encoded data removed]",
      "text/latex": [
       "$\\displaystyle - \\frac{x_{0} \\sqrt{a^{2} - x_{0}^{2}}}{\\left|{x_{0}}\\right|} + 2 \\sqrt{a^{2} - x_{0}^{2}} - \\frac{x_{0}^{3} \\sqrt{a^{2} - x_{0}^{2}} \\log{\\left(\\frac{\\sqrt{x_{0}^{2} + \\left|{\\sqrt{a^{2} - x_{0}^{2}}}\\right|^{2}}}{\\left|{x_{0}}\\right|} + \\left|{\\frac{\\sqrt{a^{2} - x_{0}^{2}}}{x_{0}}}\\right| \\right)}}{a \\left|{x_{0}}\\right| \\left|{\\sqrt{a^{2} - x_{0}^{2}}}\\right|}$"
      ],
      "text/plain": [
       "                                                            ⎛     ____________\n",
       "                                                            ⎜    ╱            \n",
       "                                                            ⎜   ╱        │   _\n",
       "                                              __________    ⎜  ╱     2   │  ╱ \n",
       "        __________                       3   ╱  2     2     ⎜╲╱    x₀  + │╲╱  \n",
       "       ╱  2     2         __________   x₀ ⋅╲╱  a  - x₀  ⋅log⎜─────────────────\n",
       "  x₀⋅╲╱  a  - x₀         ╱  2     2                         ⎝             │x₀│\n",
       "- ──────────────── + 2⋅╲╱  a  - x₀   - ───────────────────────────────────────\n",
       "        │x₀│                                                          │   ____\n",
       "                                                                      │  ╱  2 \n",
       "                                                               a⋅│x₀│⋅│╲╱  a  \n",
       "\n",
       "____________                  ⎞\n",
       "          2                   ⎟\n",
       "_________│     │   __________│⎟\n",
       " 2     2 │     │  ╱  2     2 │⎟\n",
       "a  - x₀  │     │╲╱  a  - x₀  │⎟\n",
       "──────────── + │─────────────│⎟\n",
       "               │      x₀     │⎠\n",
       "───────────────────────────────\n",
       "______│                        \n",
       "    2 │                        \n",
       "- x₀  │                        "
      ]
     },
     "execution_count": 32,
     "metadata": {},
     "output_type": "execute_result"
    }
   ],
   "source": [
    "F"
   ]
  },
  {
   "cell_type": "code",
   "execution_count": 33,
   "id": "f52436f7",
   "metadata": {},
   "outputs": [
    {
     "data": {
      "image/png": "[encoded data removed]",
      "text/latex": [
       "$\\displaystyle 0$"
      ],
      "text/plain": [
       "0"
      ]
     },
     "execution_count": 33,
     "metadata": {},
     "output_type": "execute_result"
    }
   ],
   "source": [
    "(F - (2 * sqrt(a**2 - x_0**2) - (1/a) * integrate(sqrt(x_0**2 + y**2), (y, -b, b))).rewrite(log).simplify()).simplify()"
   ]
  },
  {
   "cell_type": "code",
   "execution_count": 34,
   "id": "70c4635d",
   "metadata": {},
   "outputs": [
    {
     "data": {
      "image/png": "[encoded data removed]",
      "text/latex": [
       "$\\displaystyle 0$"
      ],
      "text/plain": [
       "0"
      ]
     },
     "execution_count": 34,
     "metadata": {},
     "output_type": "execute_result"
    }
   ],
   "source": [
    "(F - (2 * sqrt(a**2 - x_0**2) - (2/a) * integrate(sqrt(x_0**2 + y**2), (y, 0, b))).rewrite(log).simplify()).simplify()"
   ]
  },
  {
   "cell_type": "code",
   "execution_count": 35,
   "id": "d2d272be",
   "metadata": {},
   "outputs": [
    {
     "data": {
      "image/png": "[encoded data removed]",
      "text/latex": [
       "$\\displaystyle 0$"
      ],
      "text/plain": [
       "0"
      ]
     },
     "execution_count": 35,
     "metadata": {},
     "output_type": "execute_result"
    }
   ],
   "source": [
    "(F - (2 * sqrt(a**2 - x_0**2) - (2/a) * integrate(sqrt(x_0**2 + y**2), (y, 0, b))).rewrite(log).simplify()).simplify()"
   ]
  },
  {
   "cell_type": "code",
   "execution_count": 36,
   "id": "7954c3a8",
   "metadata": {},
   "outputs": [
    {
     "data": {
      "image/png": "[encoded data removed]",
      "text/latex": [
       "$\\displaystyle \\frac{x_{0} \\sqrt{a^{2} - x_{0}^{2}} \\left(a \\left|{\\sqrt{a^{2} - x_{0}^{2}}}\\right| + x_{0}^{2} \\log{\\left(\\left(\\sqrt{x_{0}^{2} + \\left|{\\sqrt{a^{2} - x_{0}^{2}}}\\right|^{2}} + \\left|{\\sqrt{a^{2} - x_{0}^{2}}}\\right|\\right) \\left|{\\frac{1}{x_{0}}}\\right| \\right)}\\right) \\left|{\\frac{1}{x_{0} \\sqrt{a^{2} - x_{0}^{2}}}}\\right|}{2}$"
      ],
      "text/plain": [
       "                 ⎛                           ⎛⎛     ________________________  \n",
       "                 ⎜                           ⎜⎜    ╱                      2   \n",
       "      __________ ⎜  │   __________│          ⎜⎜   ╱        │   __________│    \n",
       "     ╱  2     2  ⎜  │  ╱  2     2 │     2    ⎜⎜  ╱     2   │  ╱  2     2 │    \n",
       "x₀⋅╲╱  a  - x₀  ⋅⎜a⋅│╲╱  a  - x₀  │ + x₀ ⋅log⎜⎝╲╱    x₀  + │╲╱  a  - x₀  │   +\n",
       "                 ⎝                           ⎝                                \n",
       "                                                                              \n",
       "                                                                              \n",
       "──────────────────────────────────────────────────────────────────────────────\n",
       "                                                            2                 \n",
       "\n",
       "                ⎞     ⎞⎞                   \n",
       "                ⎟     ⎟⎟                   \n",
       " │   __________│⎟     ⎟⎟                   \n",
       " │  ╱  2     2 │⎟ │1 │⎟⎟ │       1        │\n",
       " │╲╱  a  - x₀  │⎠⋅│──│⎟⎟⋅│────────────────│\n",
       "                  │x₀│⎠⎠ │      __________│\n",
       "                         │     ╱  2     2 │\n",
       "                         │x₀⋅╲╱  a  - x₀  │\n",
       "───────────────────────────────────────────\n",
       "                                           "
      ]
     },
     "execution_count": 36,
     "metadata": {},
     "output_type": "execute_result"
    }
   ],
   "source": [
    "integrate(sqrt(x_0**2 + y**2), (y, 0, b)).rewrite(log).simplify()"
   ]
  },
  {
   "cell_type": "code",
   "execution_count": 37,
   "id": "37302dcb",
   "metadata": {},
   "outputs": [],
   "source": [
    "x = symbols('x', real=True)"
   ]
  },
  {
   "cell_type": "code",
   "execution_count": 38,
   "id": "7ac4b735",
   "metadata": {},
   "outputs": [],
   "source": [
    "# antiderivative = "
   ]
  },
  {
   "cell_type": "code",
   "execution_count": 39,
   "id": "31bc17b6",
   "metadata": {},
   "outputs": [],
   "source": [
    "# antiderivative"
   ]
  },
  {
   "cell_type": "code",
   "execution_count": 40,
   "id": "7523582a",
   "metadata": {},
   "outputs": [],
   "source": [
    "# F.subs(x_0, x)"
   ]
  },
  {
   "cell_type": "code",
   "execution_count": 41,
   "id": "04a2d055",
   "metadata": {},
   "outputs": [],
   "source": [
    "# (F.subs(x_0, x) - diff(antiderivative, x)).simplify()"
   ]
  },
  {
   "cell_type": "code",
   "execution_count": 42,
   "id": "0489ce2f",
   "metadata": {},
   "outputs": [],
   "source": [
    "area_parabola = integrate(\n",
    "    h * (a**2 - x**2 - y**2)/a**2, (y, -sqrt(a**2 - x**2), sqrt(a**2 - x**2))   \n",
    ")"
   ]
  },
  {
   "cell_type": "code",
   "execution_count": 45,
   "id": "25e3a214",
   "metadata": {},
   "outputs": [
    {
     "data": {
      "image/png": "[encoded data removed]",
      "text/latex": [
       "$\\displaystyle \\frac{4 h \\left(a^{2} - x^{2}\\right)^{\\frac{3}{2}}}{3 a^{2}}$"
      ],
      "text/plain": [
       "             3/2\n",
       "    ⎛ 2    2⎞   \n",
       "4⋅h⋅⎝a  - x ⎠   \n",
       "────────────────\n",
       "         2      \n",
       "      3⋅a       "
      ]
     },
     "execution_count": 45,
     "metadata": {},
     "output_type": "execute_result"
    }
   ],
   "source": [
    "area_parabola.simplify()"
   ]
  },
  {
   "cell_type": "code",
   "execution_count": 58,
   "id": "15f081c3",
   "metadata": {},
   "outputs": [
    {
     "data": {
      "image/png": "[encoded data removed]",
      "text/latex": [
       "$\\displaystyle \\frac{\\pi a^{2} h}{2}$"
      ],
      "text/plain": [
       "   2  \n",
       "π⋅a ⋅h\n",
       "──────\n",
       "  2   "
      ]
     },
     "execution_count": 58,
     "metadata": {},
     "output_type": "execute_result"
    }
   ],
   "source": [
    "integrate(area_parabola.simplify(), (x, -a, a))"
   ]
  },
  {
   "cell_type": "code",
   "execution_count": 55,
   "id": "255d840c",
   "metadata": {},
   "outputs": [
    {
     "data": {
      "image/png": "[encoded data removed]",
      "text/latex": [
       "$\\displaystyle \\frac{0.666666666666667 h \\left(a^{2} - x^{2}\\right)^{\\frac{3}{2}}}{a^{2}}$"
      ],
      "text/plain": [
       "                             3/2\n",
       "                    ⎛ 2    2⎞   \n",
       "0.666666666666667⋅h⋅⎝a  - x ⎠   \n",
       "────────────────────────────────\n",
       "                2               \n",
       "               a                "
      ]
     },
     "execution_count": 55,
     "metadata": {},
     "output_type": "execute_result"
    }
   ],
   "source": [
    "((area_parabola - ((h / a**2) * (2 * a**2 * sqrt(a**2 - x**2) - 2 * x**2 * sqrt(a**2 - x**2) - (2/3) * 2 * sqrt(a**2 - x**2)**3)))).simplify()"
   ]
  },
  {
   "cell_type": "code",
   "execution_count": 57,
   "id": "556debad",
   "metadata": {},
   "outputs": [
    {
     "data": {
      "image/png": "[encoded data removed]",
      "text/latex": [
       "$\\displaystyle \\frac{4 h \\left(a^{2} - x^{2}\\right)^{\\frac{3}{2}}}{3 a^{2}}$"
      ],
      "text/plain": [
       "             3/2\n",
       "    ⎛ 2    2⎞   \n",
       "4⋅h⋅⎝a  - x ⎠   \n",
       "────────────────\n",
       "         2      \n",
       "      3⋅a       "
      ]
     },
     "execution_count": 57,
     "metadata": {},
     "output_type": "execute_result"
    }
   ],
   "source": [
    "area_parabola.simplify()"
   ]
  },
  {
   "cell_type": "code",
   "execution_count": 63,
   "id": "abf31cef",
   "metadata": {},
   "outputs": [
    {
     "data": {
      "image/png": "[encoded data removed]",
      "text/latex": [
       "$\\displaystyle \\frac{3 a^{4} \\operatorname{asin}{\\left(\\frac{x}{a} \\right)}}{8} + \\frac{5 a^{2} x \\sqrt{a^{2} - x^{2}}}{8} - \\frac{x^{3} \\sqrt{a^{2} - x^{2}}}{4}$"
      ],
      "text/plain": [
       "   4     ⎛x⎞             _________         _________\n",
       "3⋅a ⋅asin⎜─⎟      2     ╱  2    2     3   ╱  2    2 \n",
       "         ⎝a⎠   5⋅a ⋅x⋅╲╱  a  - x     x ⋅╲╱  a  - x  \n",
       "──────────── + ─────────────────── - ───────────────\n",
       "     8                  8                   4       "
      ]
     },
     "execution_count": 63,
     "metadata": {},
     "output_type": "execute_result"
    }
   ],
   "source": [
    "integrate(sqrt(a**2 - x**2)**3, x)"
   ]
  },
  {
   "cell_type": "code",
   "execution_count": null,
   "id": "0f46335b",
   "metadata": {},
   "outputs": [],
   "source": []
  }
 ],
 "metadata": {
  "kernelspec": {
   "display_name": "math",
   "language": "python",
   "name": "python3"
  },
  "language_info": {
   "codemirror_mode": {
    "name": "ipython",
    "version": 3
   },
   "file_extension": ".py",
   "mimetype": "text/x-python",
   "name": "python",
   "nbconvert_exporter": "python",
   "pygments_lexer": "ipython3",
   "version": "3.11.6"
  }
 },
 "nbformat": 4,
 "nbformat_minor": 5
}
