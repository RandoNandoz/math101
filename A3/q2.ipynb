{
 "cells": [
  {
   "cell_type": "code",
   "execution_count": 2,
   "metadata": {},
   "outputs": [],
   "source": [
    "from sympy import *\n",
    "from typing import Callable\n",
    "init_printing()"
   ]
  },
  {
   "cell_type": "code",
   "execution_count": 3,
   "metadata": {},
   "outputs": [],
   "source": [
    "x, y, z = symbols('x y z')"
   ]
  },
  {
   "cell_type": "code",
   "execution_count": 4,
   "metadata": {},
   "outputs": [],
   "source": [
    "K, D, m, n = symbols('K D m n')"
   ]
  },
  {
   "cell_type": "code",
   "execution_count": 5,
   "metadata": {},
   "outputs": [],
   "source": [
    "a_2 = K * sin(m * x) * cos(n * x) + D * cos(m * x) * sin(n * x)"
   ]
  },
  {
   "cell_type": "code",
   "execution_count": 6,
   "metadata": {},
   "outputs": [
    {
     "data": {
      "image/png": "[encoded data removed]",
      "text/latex": [
       "$\\displaystyle D \\sin{\\left(n x \\right)} \\cos{\\left(m x \\right)} + K \\sin{\\left(m x \\right)} \\cos{\\left(n x \\right)}$"
      ],
      "text/plain": [
       "D⋅sin(n⋅x)⋅cos(m⋅x) + K⋅sin(m⋅x)⋅cos(n⋅x)"
      ]
     },
     "execution_count": 6,
     "metadata": {},
     "output_type": "execute_result"
    }
   ],
   "source": [
    "a_2"
   ]
  },
  {
   "cell_type": "code",
   "execution_count": 7,
   "metadata": {},
   "outputs": [
    {
     "data": {
      "image/png": "[encoded data removed]",
      "text/latex": [
       "$\\displaystyle - D m \\sin{\\left(m x \\right)} \\sin{\\left(n x \\right)} + D n \\cos{\\left(m x \\right)} \\cos{\\left(n x \\right)} + K m \\cos{\\left(m x \\right)} \\cos{\\left(n x \\right)} - K n \\sin{\\left(m x \\right)} \\sin{\\left(n x \\right)}$"
      ],
      "text/plain": [
       "-D⋅m⋅sin(m⋅x)⋅sin(n⋅x) + D⋅n⋅cos(m⋅x)⋅cos(n⋅x) + K⋅m⋅cos(m⋅x)⋅cos(n⋅x) - K⋅n⋅s\n",
       "in(m⋅x)⋅sin(n⋅x)"
      ]
     },
     "execution_count": 7,
     "metadata": {},
     "output_type": "execute_result"
    }
   ],
   "source": [
    "diff(a_2, x)"
   ]
  },
  {
   "cell_type": "code",
   "execution_count": 8,
   "metadata": {},
   "outputs": [
    {
     "data": {
      "image/png": "[encoded data removed]",
      "text/latex": [
       "$\\displaystyle m \\cos{\\left(m x \\right)} \\cos{\\left(n x \\right)} - n \\sin{\\left(m x \\right)} \\sin{\\left(n x \\right)}$"
      ],
      "text/plain": [
       "m⋅cos(m⋅x)⋅cos(n⋅x) - n⋅sin(m⋅x)⋅sin(n⋅x)"
      ]
     },
     "execution_count": 8,
     "metadata": {},
     "output_type": "execute_result"
    }
   ],
   "source": [
    "diff(sin(m * x) * cos(n * x), x)"
   ]
  },
  {
   "cell_type": "code",
   "execution_count": 9,
   "metadata": {},
   "outputs": [
    {
     "data": {
      "image/png": "[encoded data removed]",
      "text/latex": [
       "$\\displaystyle - m \\sin{\\left(m x \\right)} \\sin{\\left(n x \\right)} + n \\cos{\\left(m x \\right)} \\cos{\\left(n x \\right)}$"
      ],
      "text/plain": [
       "-m⋅sin(m⋅x)⋅sin(n⋅x) + n⋅cos(m⋅x)⋅cos(n⋅x)"
      ]
     },
     "execution_count": 9,
     "metadata": {},
     "output_type": "execute_result"
    }
   ],
   "source": [
    "diff(cos(m * x) * sin(n * x), x)"
   ]
  },
  {
   "cell_type": "code",
   "execution_count": 10,
   "metadata": {},
   "outputs": [],
   "source": [
    "a_2_b = sin(m * x) * sin(n * x)"
   ]
  },
  {
   "cell_type": "code",
   "execution_count": 11,
   "metadata": {},
   "outputs": [
    {
     "data": {
      "image/png": "[encoded data removed]",
      "text/latex": [
       "$\\displaystyle \\begin{cases} 0 & \\text{for}\\: m = 0 \\wedge n = 0 \\\\- \\frac{x \\sin^{2}{\\left(n x \\right)}}{2} - \\frac{x \\cos^{2}{\\left(n x \\right)}}{2} + \\frac{\\sin{\\left(n x \\right)} \\cos{\\left(n x \\right)}}{2 n} & \\text{for}\\: m = - n \\\\\\frac{x \\sin^{2}{\\left(n x \\right)}}{2} + \\frac{x \\cos^{2}{\\left(n x \\right)}}{2} - \\frac{\\sin{\\left(n x \\right)} \\cos{\\left(n x \\right)}}{2 n} & \\text{for}\\: m = n \\\\- \\frac{m \\sin{\\left(n x \\right)} \\cos{\\left(m x \\right)}}{m^{2} - n^{2}} + \\frac{n \\sin{\\left(m x \\right)} \\cos{\\left(n x \\right)}}{m^{2} - n^{2}} & \\text{otherwise} \\end{cases}$"
      ],
      "text/plain": [
       "⎧                       0                         for m = 0 ∧ n = 0\n",
       "⎪                                                                  \n",
       "⎪       2             2                                            \n",
       "⎪  x⋅sin (n⋅x)   x⋅cos (n⋅x)   sin(n⋅x)⋅cos(n⋅x)                   \n",
       "⎪- ─────────── - ─────────── + ─────────────────     for m = -n    \n",
       "⎪       2             2               2⋅n                          \n",
       "⎪                                                                  \n",
       "⎪      2             2                                             \n",
       "⎨ x⋅sin (n⋅x)   x⋅cos (n⋅x)   sin(n⋅x)⋅cos(n⋅x)                    \n",
       "⎪ ─────────── + ─────────── - ─────────────────       for m = n    \n",
       "⎪      2             2               2⋅n                           \n",
       "⎪                                                                  \n",
       "⎪    m⋅sin(n⋅x)⋅cos(m⋅x)   n⋅sin(m⋅x)⋅cos(n⋅x)                     \n",
       "⎪  - ─────────────────── + ───────────────────        otherwise    \n",
       "⎪           2    2                2    2                           \n",
       "⎪          m  - n                m  - n                            \n",
       "⎩                                                                  "
      ]
     },
     "execution_count": 11,
     "metadata": {},
     "output_type": "execute_result"
    }
   ],
   "source": [
    "integrate(a_2_b, x)"
   ]
  },
  {
   "cell_type": "code",
   "execution_count": null,
   "metadata": {},
   "outputs": [],
   "source": []
  },
  {
   "cell_type": "code",
   "execution_count": 13,
   "metadata": {},
   "outputs": [],
   "source": []
  },
  {
   "cell_type": "code",
   "execution_count": null,
   "metadata": {},
   "outputs": [],
   "source": [
    "trapezoidal_rule"
   ]
  },
  {
   "cell_type": "code",
   "execution_count": null,
   "metadata": {},
   "outputs": [],
   "source": []
  }
 ],
 "metadata": {
  "kernelspec": {
   "display_name": "math",
   "language": "python",
   "name": "python3"
  },
  "language_info": {
   "codemirror_mode": {
    "name": "ipython",
    "version": 3
   },
   "file_extension": ".py",
   "mimetype": "text/x-python",
   "name": "python",
   "nbconvert_exporter": "python",
   "pygments_lexer": "ipython3",
   "version": "3.11.6"
  }
 },
 "nbformat": 4,
 "nbformat_minor": 2
}
