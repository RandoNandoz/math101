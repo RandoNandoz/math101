{
 "cells": [
  {
   "cell_type": "code",
   "execution_count": 1,
   "metadata": {},
   "outputs": [],
   "source": [
    "from math import pi, sin"
   ]
  },
  {
   "cell_type": "code",
   "execution_count": 2,
   "metadata": {},
   "outputs": [],
   "source": [
    "R = pi / 2"
   ]
  },
  {
   "cell_type": "code",
   "execution_count": 3,
   "metadata": {},
   "outputs": [],
   "source": [
    "def tr_rule(values: list[float], dx: float, n: int) -> float:\n",
    "    assert len(values) == 9\n",
    "    x_k = [dx * i for i in range(9)]\n",
    "    return (1 / R) * (\n",
    "        dx * (\n",
    "            1/2 * values[0] * sin(n * x_k[0]) +\n",
    "            sum([values[i] * sin(n * x_k[i]) for i in range(1, 8)]) +\n",
    "            1/2 * values[8] * sin(n * x_k[8])\n",
    "        )\n",
    "    )"
   ]
  },
  {
   "cell_type": "code",
   "execution_count": 4,
   "metadata": {},
   "outputs": [],
   "source": [
    "f_k: list[float] = [0.0, 409.3, 149.8, -53.9, 75.0, 19.3, -52.2, 50.5, 0.0]"
   ]
  },
  {
   "cell_type": "code",
   "execution_count": 5,
   "metadata": {},
   "outputs": [
    {
     "name": "stdout",
     "output_type": "stream",
     "text": [
      "B_1(f) = 72.001\n",
      "B_2(f) = 100.987\n",
      "B_3(f) = 108.014\n",
      "B_4(f) = 108.0\n",
      "B_5(f) = 111.007\n"
     ]
    }
   ],
   "source": [
    "for i in range(1, 6):\n",
    "    print(f\"B_{i}(f) = {round(tr_rule(f_k, pi / 8, i), 3)}\")"
   ]
  }
 ],
 "metadata": {
  "kernelspec": {
   "display_name": "math",
   "language": "python",
   "name": "python3"
  },
  "language_info": {
   "codemirror_mode": {
    "name": "ipython",
    "version": 3
   },
   "file_extension": ".py",
   "mimetype": "text/x-python",
   "name": "python",
   "nbconvert_exporter": "python",
   "pygments_lexer": "ipython3",
   "version": "3.11.6"
  }
 },
 "nbformat": 4,
 "nbformat_minor": 2
}
