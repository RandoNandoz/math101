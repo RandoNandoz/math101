{
 "cells": [
  {
   "cell_type": "code",
   "execution_count": 9,
   "metadata": {},
   "outputs": [],
   "source": [
    "import pandas as pd"
   ]
  },
  {
   "cell_type": "code",
   "execution_count": 10,
   "metadata": {},
   "outputs": [],
   "source": [
    "def partial_sum_n(n: int):\n",
    "    result: float = 0\n",
    "    for k in range(1, n + 1, 1):\n",
    "        result += k * 3 ** k / 4 ** k\n",
    "    return result"
   ]
  },
  {
   "cell_type": "code",
   "execution_count": 11,
   "metadata": {},
   "outputs": [],
   "source": [
    "def sum_improved(n: int, frame: pd.DataFrame) -> float:\n",
    "    Sn = frame.loc[frame['N'] == n]['S_N'].values[0]\n",
    "    Sn1 = frame.loc[frame['N'] == (n - 1)]['S_N'].values[0]\n",
    "    Sn2 = frame.loc[frame['N'] == (n - 2)]['S_N'].values[0]\n",
    "    \n",
    "    return Sn - ((Sn - Sn1)**2)/(Sn - 2 * Sn1 + Sn2)"
   ]
  },
  {
   "cell_type": "code",
   "execution_count": 12,
   "metadata": {},
   "outputs": [],
   "source": [
    "table = pd.DataFrame(data={\"N\": [i for i in range(5, 25 + 1, 1)]})"
   ]
  },
  {
   "cell_type": "code",
   "execution_count": 13,
   "metadata": {},
   "outputs": [],
   "source": [
    "table['S_N'] = [partial_sum_n(i) for i in table['N']]"
   ]
  },
  {
   "cell_type": "code",
   "execution_count": 14,
   "metadata": {},
   "outputs": [],
   "source": [
    "table['S_N Error'] = 12 - table['S_N']"
   ]
  },
  {
   "cell_type": "code",
   "execution_count": 17,
   "metadata": {},
   "outputs": [],
   "source": [
    "table['S_improved'] = table['S_N']\n",
    "\n",
    "table.loc[:2, 'S_improved'] = float(\"nan\")\n"
   ]
  },
  {
   "cell_type": "code",
   "execution_count": 18,
   "metadata": {},
   "outputs": [],
   "source": [
    "for i in range(7, 25+1, 1):\n",
    "    table.loc[table['N'] == i, 'S_improved'] = sum_improved(i, table)"
   ]
  },
  {
   "cell_type": "code",
   "execution_count": 19,
   "metadata": {},
   "outputs": [],
   "source": [
    "table['S_improved Error'] = 12 - table['S_improved']"
   ]
  },
  {
   "cell_type": "code",
   "execution_count": 21,
   "metadata": {},
   "outputs": [],
   "source": [
    "table['Improvement factor'] = round(table['S_N Error']/abs(table['S_improved Error']))"
   ]
  },
  {
   "cell_type": "code",
   "execution_count": 23,
   "metadata": {},
   "outputs": [
    {
     "name": "stdout",
     "output_type": "stream",
     "text": [
      "\\begin{tabular}{lrrrrrr}\n",
      "\\toprule\n",
      " & N & S_N & S_N Error & S_improved & S_improved Error & Improvement factor \\\\\n",
      "\\midrule\n",
      "0 & 5 & 5.592773 & 6.407227 & NaN & NaN & NaN \\\\\n",
      "1 & 6 & 6.660645 & 5.339355 & NaN & NaN & NaN \\\\\n",
      "2 & 7 & 7.595032 & 4.404968 & 14.135742 & -2.135742 & 2.000000 \\\\\n",
      "3 & 8 & 8.395935 & 3.604065 & 13.201355 & -1.201355 & 3.000000 \\\\\n",
      "4 & 9 & 9.071697 & 2.928303 & 12.720813 & -0.720813 & 4.000000 \\\\\n",
      "5 & 10 & 9.634832 & 2.365168 & 12.450508 & -0.450508 & 5.000000 \\\\\n",
      "6 & 11 & 10.099419 & 1.900581 & 12.289612 & -0.289612 & 7.000000 \\\\\n",
      "7 & 12 & 10.479535 & 1.520465 & 12.190058 & -0.190058 & 8.000000 \\\\\n",
      "8 & 13 & 10.788380 & 1.211620 & 12.126705 & -0.126705 & 10.000000 \\\\\n",
      "9 & 14 & 11.037831 & 0.962169 & 12.085526 & -0.085526 & 11.000000 \\\\\n",
      "10 & 15 & 11.238283 & 0.761717 & 12.058313 & -0.058313 & 13.000000 \\\\\n",
      "11 & 16 & 11.398644 & 0.601356 & 12.040090 & -0.040090 & 15.000000 \\\\\n",
      "12 & 17 & 11.526432 & 0.473568 & 12.027755 & -0.027755 & 17.000000 \\\\\n",
      "13 & 18 & 11.627911 & 0.372089 & 12.019329 & -0.019329 & 19.000000 \\\\\n",
      "14 & 19 & 11.708249 & 0.291751 & 12.013531 & -0.013531 & 22.000000 \\\\\n",
      "15 & 20 & 11.771673 & 0.228327 & 12.009514 & -0.009514 & 24.000000 \\\\\n",
      "16 & 21 & 11.821619 & 0.178381 & 12.006716 & -0.006716 & 27.000000 \\\\\n",
      "17 & 22 & 11.860863 & 0.139137 & 12.004757 & -0.004757 & 29.000000 \\\\\n",
      "18 & 23 & 11.891634 & 0.108366 & 12.003380 & -0.003380 & 32.000000 \\\\\n",
      "19 & 24 & 11.915715 & 0.084285 & 12.002408 & -0.002408 & 35.000000 \\\\\n",
      "20 & 25 & 11.934529 & 0.065471 & 12.001720 & -0.001720 & 38.000000 \\\\\n",
      "\\bottomrule\n",
      "\\end{tabular}\n",
      "\n"
     ]
    }
   ],
   "source": [
    "print(table.to_latex())"
   ]
  },
  {
   "cell_type": "code",
   "execution_count": null,
   "metadata": {},
   "outputs": [],
   "source": []
  }
 ],
 "metadata": {
  "kernelspec": {
   "display_name": "math",
   "language": "python",
   "name": "python3"
  },
  "language_info": {
   "codemirror_mode": {
    "name": "ipython",
    "version": 3
   },
   "file_extension": ".py",
   "mimetype": "text/x-python",
   "name": "python",
   "nbconvert_exporter": "python",
   "pygments_lexer": "ipython3",
   "version": "3.11.6"
  }
 },
 "nbformat": 4,
 "nbformat_minor": 2
}
